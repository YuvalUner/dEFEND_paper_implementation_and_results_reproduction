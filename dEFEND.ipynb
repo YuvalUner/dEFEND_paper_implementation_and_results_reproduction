{
 "cells": [
  {
   "metadata": {},
   "cell_type": "markdown",
   "source": "# Download the code and install the dependencies",
   "id": "b6747d510fc928ed"
  },
  {
   "metadata": {},
   "cell_type": "code",
   "source": "!git clone https://github.com/YuvalUner/dEFEND_paper_reproduction.git",
   "id": "e0be88c0eb756824",
   "outputs": [],
   "execution_count": null
  },
  {
   "metadata": {},
   "cell_type": "code",
   "source": [
    "import os\n",
    "os.chdir('dEFEND_paper_reproduction')"
   ],
   "id": "ad84e677c7b7d6e7",
   "outputs": [],
   "execution_count": null
  },
  {
   "metadata": {},
   "cell_type": "code",
   "source": "!pip install -r requirements.txt",
   "id": "2e9268a5e2deb7aa",
   "outputs": [],
   "execution_count": null
  },
  {
   "metadata": {},
   "cell_type": "code",
   "source": "!python -m spacy download en_core_web_sm",
   "id": "247f009a49e1e9d8",
   "outputs": [],
   "execution_count": null
  },
  {
   "metadata": {},
   "cell_type": "markdown",
   "source": [
    "Finally, the model itself uses glove.6b.100d.txt embeddings.\\\n",
    "You can download them from kaggle [here](https://www.kaggle.com/datasets/sawarn69/glove6b100dtxt) or from the original source [here](https://nlp.stanford.edu/projects/glove/).\\\n",
    "You can place the file in the \"data\" directory, or anywhere else you'd like (make sure to change the `--embedding_path` argument accordingly)."
   ],
   "id": "c140aea3db3d4"
  },
  {
   "metadata": {},
   "cell_type": "markdown",
   "source": "# Optional: Preprocess the data",
   "id": "cf1eb75e8d2afc94"
  },
  {
   "metadata": {},
   "cell_type": "markdown",
   "source": [
    "Running the cell below will preprocess the data we have provided in the \"data\" directory.\\\n",
    "If you intend to train the model more than once, it is recommended to preprocess the data once and save it using this cell, as it can take a while.\\\n",
    "Otherwise, you can skip this cell and the model will preprocess the data before training. However, please remember to change the `--require_preprocessing` argument to `True` in the training cell if choose to skip this cell.\\\n",
    "Also, change the `--dataset_name` argument to the name of the dataset you want to preprocess (either `\"politifact\"` or `\"gossipcop\"`)."
   ],
   "id": "53af809a60a9e159"
  },
  {
   "metadata": {},
   "cell_type": "code",
   "source": "!python preprocess.py --dataset_name politifact --dataroot data",
   "id": "8054ee1638f21b33",
   "outputs": [],
   "execution_count": null
  },
  {
   "metadata": {},
   "cell_type": "markdown",
   "source": "# Train the model",
   "id": "d7fd16afae6349de"
  },
  {
   "metadata": {},
   "cell_type": "markdown",
   "source": [
    "Running the cell below will train the model on the specified dataset.\\\n",
    "Please refer to the `help` flag for more information on the available arguments.\\\n",
    "\\\n",
    "Change the `--use_comments` argument to `True` if you want to use the article-comments pairs in the dataset.\\\n",
    "However, be aware that the dataset provided by us has auto-generated comments, due to issues accessing the original comments.\\\n",
    "As such, the comments may not be very useful for training the model, despite the model being able to use them, as described in the original paper."
   ],
   "id": "5ef9d1cebf3ecbad"
  },
  {
   "metadata": {},
   "cell_type": "code",
   "source": "!python train.py --gpu_ids 0 --dataset_name politifact --dataroot data --require_preprocessing False --save_epoch_freq 5 --use_comments False --name \"defend_politifact\"",
   "id": "1a6484f6110820a6",
   "outputs": [],
   "execution_count": null
  },
  {
   "metadata": {},
   "cell_type": "markdown",
   "source": "# Model Explainability",
   "id": "e11ded3435a3ea8b"
  },
  {
   "metadata": {},
   "cell_type": "markdown",
   "source": [
    "One of the main contributions of dEFEND is its explainability.\\\n",
    "In the cells below, you can load the trained model, and use it to make explainable predictions on article / article-comments pairs."
   ],
   "id": "45c762f64b93682e"
  },
  {
   "metadata": {},
   "cell_type": "markdown",
   "source": "## Import the model and set up the options",
   "id": "d052a8674d72f315"
  },
  {
   "metadata": {},
   "cell_type": "code",
   "source": [
    "from dEFEND_paper_reproduction import *\n",
    "import model"
   ],
   "id": "41dc8bb9c4fb86c2",
   "outputs": [],
   "execution_count": null
  },
  {
   "metadata": {},
   "cell_type": "markdown",
   "source": [
    "The model requires these options to be set in order to load.\\\n",
    "Change the `--name` argument to the name of the model you want to load, as well as the `use_comments` argument and the `--embedding_path` argument if you have made changes to them."
   ],
   "id": "9763d673698cb3bf"
  },
  {
   "metadata": {},
   "cell_type": "code",
   "source": [
    "import argparse\n",
    "\n",
    "options_dict = {\n",
    "    \"dataroot\": \"data\",\n",
    "    \"embedding_path\": \"data/glove.6B.100d.txt\",\n",
    "    \"gpu_ids\": [0],\n",
    "    \"batch_size\": 30,\n",
    "    \"max_sentence_len\": 120,\n",
    "    \"max_sentence_count\": 50,\n",
    "    \"max_comment_count\": 50,\n",
    "    \"max_comment_len\": 120,\n",
    "    \"embedding_dim\": 100,\n",
    "    \"vocab_size\": 20000,\n",
    "    \"name\": \"defend_politifact\",\n",
    "    \"bidirectional\": True,\n",
    "    \"RMSprop_ro_param\": 0.9,\n",
    "    \"RMSprop_eps\": 0.1,\n",
    "    \"RMSprop_decay\": 0.0,\n",
    "    \"max_epochs\": 20,\n",
    "    \"checkpoints_dir\": \"./checkpoints\",\n",
    "    \"save_epoch_freq\": 1,\n",
    "    \"d\": 100,\n",
    "    \"k\": 80,\n",
    "    \"lr\": 0.02,\n",
    "    \"use_comments\": False,\n",
    "    \"require_preprocessing\": False,\n",
    "    \"dataset_name\": \"politifact\"\n",
    "}\n",
    "\n",
    "opt = argparse.Namespace(**options_dict)"
   ],
   "id": "7ac9b4b53ac54e5",
   "outputs": [],
   "execution_count": null
  },
  {
   "metadata": {},
   "cell_type": "markdown",
   "source": "## Load the model",
   "id": "d571ac1c36183f2c"
  },
  {
   "metadata": {},
   "cell_type": "code",
   "source": [
    "if opt.use_comments:\n",
    "    defend = model.Defend(opt)\n",
    "else:\n",
    "    defend = model.DefendNoComments(opt)"
   ],
   "id": "d0b7f6e099209c8a",
   "outputs": [],
   "execution_count": null
  },
  {
   "metadata": {},
   "cell_type": "code",
   "source": "defend.load_model(f\"{opt.checkpoints_dir}/{opt.name}.pt\")",
   "id": "55317217bbbb8977",
   "outputs": [],
   "execution_count": null
  },
  {
   "metadata": {},
   "cell_type": "markdown",
   "source": "## Load the data",
   "id": "2b37d112e363b1b1"
  },
  {
   "metadata": {},
   "cell_type": "code",
   "source": [
    "from data import load_articles_with_comments\n",
    "articles, comments, true_labels = load_articles_with_comments(opt)"
   ],
   "id": "5ff4b63c0d5533db",
   "outputs": [],
   "execution_count": null
  },
  {
   "metadata": {},
   "cell_type": "markdown",
   "source": "## Predict and explain",
   "id": "24333573c8ca566c"
  },
  {
   "metadata": {},
   "cell_type": "code",
   "source": "article, comments, label = articles[0], comments[0], true_labels[0]",
   "id": "84bd364bd0b6fb21",
   "outputs": [],
   "execution_count": null
  },
  {
   "metadata": {},
   "cell_type": "code",
   "source": "print(article)",
   "id": "8ac8d5039065e5",
   "outputs": [],
   "execution_count": null
  },
  {
   "metadata": {},
   "cell_type": "code",
   "source": "print(label)",
   "id": "892b87a1f323c7d",
   "outputs": [],
   "execution_count": null
  },
  {
   "metadata": {},
   "cell_type": "code",
   "source": [
    "pred, top_sent, top_com = defend.predict_explain(articles[357], comments)\n",
    "print(pred)\n",
    "print(top_sent)\n",
    "print(top_com)"
   ],
   "id": "172a9e09c74e1da3",
   "outputs": [],
   "execution_count": null
  }
 ],
 "metadata": {
  "kernelspec": {
   "display_name": "Python 3",
   "language": "python",
   "name": "python3"
  },
  "language_info": {
   "codemirror_mode": {
    "name": "ipython",
    "version": 2
   },
   "file_extension": ".py",
   "mimetype": "text/x-python",
   "name": "python",
   "nbconvert_exporter": "python",
   "pygments_lexer": "ipython2",
   "version": "2.7.6"
  }
 },
 "nbformat": 4,
 "nbformat_minor": 5
}
